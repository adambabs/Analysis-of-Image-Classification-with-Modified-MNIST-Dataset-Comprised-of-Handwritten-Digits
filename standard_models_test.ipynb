{
  "nbformat": 4,
  "nbformat_minor": 0,
  "metadata": {
    "colab": {
      "name": "Untitled1.ipynb",
      "provenance": [],
      "collapsed_sections": []
    },
    "kernelspec": {
      "name": "python3",
      "display_name": "Python 3"
    }
  },
  "cells": [
    {
      "cell_type": "code",
      "metadata": {
        "id": "K8ezIWcneYzd",
        "colab_type": "code",
        "outputId": "c9c61f0a-0481-45c9-b985-5c121feef260",
        "colab": {
          "base_uri": "https://localhost:8080/",
          "height": 54
        }
      },
      "source": [
        "from google.colab import drive\n",
        "drive.mount('/content/drive')"
      ],
      "execution_count": 0,
      "outputs": [
        {
          "output_type": "stream",
          "text": [
            "Drive already mounted at /content/drive; to attempt to forcibly remount, call drive.mount(\"/content/drive\", force_remount=True).\n"
          ],
          "name": "stdout"
        }
      ]
    },
    {
      "cell_type": "code",
      "metadata": {
        "id": "wVd0dtcdebLh",
        "colab_type": "code",
        "outputId": "2d5080f3-251f-4a82-d73e-9f082ee04452",
        "colab": {
          "base_uri": "https://localhost:8080/",
          "height": 1000
        }
      },
      "source": [
        "import numpy as np\n",
        "import pandas as pd\n",
        "import cv2\n",
        "from time import time\n",
        "from sklearn.model_selection import train_test_split\n",
        "from scipy.sparse import csr_matrix\n",
        "from sklearn.metrics import f1_score, confusion_matrix, accuracy_score\n",
        "from sklearn.linear_model import LogisticRegression\n",
        "from sklearn.naive_bayes import BernoulliNB, ComplementNB, MultinomialNB\n",
        "from sklearn.tree import DecisionTreeClassifier\n",
        "from sklearn.svm import LinearSVC\n",
        "from sklearn.ensemble import VotingClassifier, RandomForestClassifier\n",
        "from sklearn import model_selection\n",
        "\n",
        "TRAIN_PATH = '/content/drive/My Drive/comp551/data/train_max_x'\n",
        "TARGETS_PATH = '/content/drive/My Drive/comp551/data/train_max_y.csv'\n",
        "THRESH = 240\n",
        "\n",
        "print('Standard models:')\n",
        "# load images as a numpy array\n",
        "train_dataset = np.array(np.load(TRAIN_PATH, allow_pickle=True))\n",
        "train_dataset = np.array([cv2.threshold(i, THRESH, 255, cv2.THRESH_BINARY)[1] for i in train_dataset])\n",
        "train_dataset = train_dataset / 255.0\n",
        "\n",
        "nsamples, nx, ny = train_dataset.shape\n",
        "train_dataset = train_dataset.reshape((nsamples,nx*ny)) # reshape the array into a 2d\n",
        "\n",
        "targets = pd.read_csv(TARGETS_PATH, delimiter=',', skipinitialspace=True)\n",
        "targets = targets.to_numpy()\n",
        "# remove id column\n",
        "targets = targets[:, 1]\n",
        "targets = targets.astype(int)\n",
        "\n",
        "X_train, X_test, y_train, y_test = train_test_split(train_dataset, targets, test_size=0.2, random_state=42)\n",
        "X_train = csr_matrix(X_train)\n",
        "X_test = csr_matrix(X_test)\n",
        "# Clean memory\n",
        "train_dataset = None\n",
        "targets = None\n",
        "\n",
        "LR = LogisticRegression(random_state=0, solver='saga', multi_class='multinomial').fit(X_train, y_train)\n",
        "y_pred = LR.predict(X_test)\n",
        "print(\"Logistic Regression\")\n",
        "print(confusion_matrix(y_test, y_pred))\n",
        "print(\"Accuracy = \", accuracy_score(y_test, y_pred))\n",
        "print(\"f1_score = \", f1_score(y_test, y_pred, average='micro'))\n",
        "print(\"-------------------------------\")\n",
        "\n",
        "MB = MultinomialNB(alpha=0.4, fit_prior=True, class_prior=None).fit(X_train, y_train)\n",
        "y_pred = MB.predict(X_test)\n",
        "print(\"Multinomial NB\")\n",
        "print(confusion_matrix(y_test, y_pred))\n",
        "print(\"Accuracy = \", accuracy_score(y_test, y_pred))\n",
        "print(\"f1_score = \", f1_score(y_test, y_pred, average='micro'))\n",
        "print(\"-------------------------------\")\n",
        "\n",
        "CNB = ComplementNB(alpha=4.0, class_prior=None, fit_prior=True, norm=False).fit(X_train, y_train)\n",
        "y_pred = CNB.predict(X_test)\n",
        "print(\"Complement NB\")\n",
        "print(confusion_matrix(y_test, y_pred))\n",
        "print(\"Accuracy = \", accuracy_score(y_test, y_pred))\n",
        "print(\"f1_score = \", f1_score(y_test, y_pred, average='micro'))\n",
        "print(\"-------------------------------\")\n",
        "\n",
        "RF = RandomForestClassifier(n_estimators=200).fit(X_train, y_train)\n",
        "y_pred = RF.predict(X_test)\n",
        "print(\"Random Forest\")\n",
        "print(confusion_matrix(y_test, y_pred))\n",
        "print(\"Accuracy = \", accuracy_score(y_test, y_pred))\n",
        "print(\"f1_score = \", f1_score(y_test, y_pred, average='micro'))\n",
        "print(\"-------------------------------\")\n",
        "\n",
        "LSVC = LinearSVC().fit(X_train, y_train)\n",
        "y_pred = LSVC.predict(X_test)\n",
        "print(\"Linear SVC\")\n",
        "print(confusion_matrix(y_test, y_pred))\n",
        "print(\"Accuracy = \", accuracy_score(y_test, y_pred))\n",
        "print(\"f1_score = \", f1_score(y_test, y_pred, average='micro'))\n",
        "print(\"-------------------------------\")\n",
        "\n",
        "models = [\n",
        "        ('RF', RandomForestClassifier(n_estimators=200)),\n",
        "        ('LR', LogisticRegression(random_state=0, solver='saga', multi_class='multinomial')),\n",
        "        ('CNB', ComplementNB(alpha=4.0, class_prior=None, fit_prior=True, norm=False)),\n",
        "        ('MNB', MultinomialNB(alpha=0.4, fit_prior=True, class_prior=None))\n",
        "    ]\n",
        "ensemble = VotingClassifier(models).fit(X_train, y_train)\n",
        "y_pred = ensemble.predict(X_test)\n",
        "print('Ensemble of RF, LR, NB, MNB')\n",
        "print(confusion_matrix(y_test, y_pred))\n",
        "print(\"Accuracy = \", accuracy_score(y_test, y_pred))\n",
        "print(\"f1_score = \", f1_score(y_test, y_pred, average='micro'))\n",
        "print(\"-------------------------------\")"
      ],
      "execution_count": 1,
      "outputs": [
        {
          "output_type": "stream",
          "text": [
            "Standard models:\n"
          ],
          "name": "stdout"
        },
        {
          "output_type": "stream",
          "text": [
            "/usr/local/lib/python3.6/dist-packages/sklearn/linear_model/sag.py:337: ConvergenceWarning: The max_iter was reached which means the coef_ did not converge\n",
            "  \"the coef_ did not converge\", ConvergenceWarning)\n"
          ],
          "name": "stderr"
        },
        {
          "output_type": "stream",
          "text": [
            "Logistic Regression\n",
            "[[  0   0   0   0   2   1   1   1   2   3]\n",
            " [  0   1   0   2   2   6  11  11  22  20]\n",
            " [  0   0   1   7   7   8  19  56  55  57]\n",
            " [  0   1   4   5  14  29  68  80  91 127]\n",
            " [  0   0   4  13  33  48  78 107 158 210]\n",
            " [  0   2   9  16  37  47 101 164 192 255]\n",
            " [  0   3  14  23  47  82 156 236 295 354]\n",
            " [  0   3  11  61  62 120 221 308 448 536]\n",
            " [  0   0  15  51  97 140 223 404 526 684]\n",
            " [  0   3  21  62 109 202 309 500 651 835]]\n",
            "Accuracy =  0.1912\n",
            "f1_score =  0.1912\n",
            "-------------------------------\n",
            "Multinomial NB\n",
            "[[  0   0   0   1   0   1   1   2   3   2]\n",
            " [  5   8  11   8   8   5   9   8  11   2]\n",
            " [ 13  15  21  22  19  29  33  24  19  15]\n",
            " [ 22  29  47  58  54  32  62  49  37  29]\n",
            " [ 22  62  60  81  85  57 123  76  43  42]\n",
            " [ 39  70  97  85 109  83 110  84  79  67]\n",
            " [ 38 119 107 131 143 131 199 125 107 110]\n",
            " [ 92 156 187 200 218 151 247 202 154 163]\n",
            " [108 179 219 212 291 211 332 244 160 184]\n",
            " [116 239 266 262 361 274 367 301 228 278]]\n",
            "Accuracy =  0.1094\n",
            "f1_score =  0.1094\n",
            "-------------------------------\n",
            "Complement NB\n",
            "[[  0   0   0   0   0   1   2   2   3   2]\n",
            " [  0   0   0   0   5   7  16   6  15  26]\n",
            " [  0   0   1   6  16  15  49  31  42  50]\n",
            " [  0   1   5   8  26  27  97  63  82 110]\n",
            " [  0   0   4  15  38  51 157 106 131 149]\n",
            " [  0   1   4  19  49  60 164 127 183 216]\n",
            " [  0   1   1  23  45  90 280 173 266 331]\n",
            " [  0   3   9  41  92 106 375 281 382 481]\n",
            " [  0   1  14  38 119 144 470 331 452 571]\n",
            " [  0   2  13  61 158 175 530 420 557 776]]\n",
            "Accuracy =  0.1896\n",
            "f1_score =  0.18960000000000002\n",
            "-------------------------------\n",
            "Random Forest\n",
            "[[   0    0    0    0    0    0    0    0    3    7]\n",
            " [   0    0    0    0    0    0    0    0   12   63]\n",
            " [   0    0    0    0    0    0    0    7   45  158]\n",
            " [   0    0    0    0    0    0    0   13   76  330]\n",
            " [   0    0    0    0    0    0    0   24  107  520]\n",
            " [   0    0    0    0    0    0    0   24  157  642]\n",
            " [   0    0    0    0    0    0    5   25  218  962]\n",
            " [   0    0    0    0    0    0    1   46  268 1455]\n",
            " [   0    0    0    0    0    0    3   41  463 1633]\n",
            " [   0    0    0    0    0    0    3   46  417 2226]]\n",
            "Accuracy =  0.274\n",
            "f1_score =  0.274\n",
            "-------------------------------\n"
          ],
          "name": "stdout"
        },
        {
          "output_type": "stream",
          "text": [
            "/usr/local/lib/python3.6/dist-packages/sklearn/svm/base.py:929: ConvergenceWarning: Liblinear failed to converge, increase the number of iterations.\n",
            "  \"the number of iterations.\", ConvergenceWarning)\n"
          ],
          "name": "stderr"
        },
        {
          "output_type": "stream",
          "text": [
            "Linear SVC\n",
            "[[  0   0   1   1   1   1   1   2   1   2]\n",
            " [  2   2   1   2   2   4  16  12  20  14]\n",
            " [  0   2   3  11  11  17  25  48  45  48]\n",
            " [  0   2   6  10  19  50  68  85  87  92]\n",
            " [  2   3  14  29  43  65  83 123 130 159]\n",
            " [  1   7  17  20  57  72 113 170 161 205]\n",
            " [  1  10  28  25  78 114 177 274 248 255]\n",
            " [  2  10  33  62 105 179 264 334 366 415]\n",
            " [  2  13  34  76 130 209 328 393 438 517]\n",
            " [  3  16  33  93 179 244 409 506 558 651]]\n",
            "Accuracy =  0.173\n",
            "f1_score =  0.173\n",
            "-------------------------------\n"
          ],
          "name": "stdout"
        },
        {
          "output_type": "stream",
          "text": [
            "/usr/local/lib/python3.6/dist-packages/sklearn/linear_model/sag.py:337: ConvergenceWarning: The max_iter was reached which means the coef_ did not converge\n",
            "  \"the coef_ did not converge\", ConvergenceWarning)\n"
          ],
          "name": "stderr"
        },
        {
          "output_type": "stream",
          "text": [
            "Ensemble of RF, LR, NB, MNB\n",
            "[[  0   0   0   1   0   1   1   2   3   2]\n",
            " [  0   5   3   3   3   5  10   4  15  27]\n",
            " [  3   4   6  12  15  21  34  28  36  51]\n",
            " [  7   9  19  20  25  24  65  50  70 130]\n",
            " [  6  18  21  37  47  44 117  72  93 196]\n",
            " [ 14  20  33  40  54  57 109  99 152 245]\n",
            " [ 10  54  35  65  68  85 193 134 209 357]\n",
            " [ 32  62  63 107 118 100 249 204 290 545]\n",
            " [ 27  58  86 100 151 144 318 260 346 650]\n",
            " [ 37  81  97 131 188 175 351 324 412 896]]\n",
            "Accuracy =  0.1774\n",
            "f1_score =  0.1774\n",
            "-------------------------------\n"
          ],
          "name": "stdout"
        }
      ]
    }
  ]
}